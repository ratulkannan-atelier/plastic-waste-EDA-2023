{
 "cells": [
  {
   "cell_type": "markdown",
   "id": "386de7ae",
   "metadata": {},
   "source": [
    "# Exploratory Data Analysis: Global Plastic Waste (2023)\n",
    "\n",
    "### Objective\n",
    "This project explores patterns in **plastic consumption, waste generation, and mismanagement** across countries in 2023.  \n",
    "The goal is to answer:  \n",
    "- Which countries contribute the most to plastic use and waste?  \n",
    "- How do per-capita trends differ from total consumption trends?  \n",
    "- Which nations have the highest levels of **mismanaged plastic waste** (both absolute and relative)?  \n",
    "- What does this reveal about global waste management capacity?  \n"
   ]
  },
  {
   "cell_type": "markdown",
   "id": "98692e76",
   "metadata": {},
   "source": [
    "### Dataset Description\n",
    "\n",
    "The primary dataset used is from **World Population Review (2023)**, containing information on plastic use and waste by country.  \n",
    "\n",
    "**Columns included:**  \n",
    "- `Total Plastic Use (2023, Tons)` – total plastic consumed by each country.  \n",
    "- `Plastic Use per Person (2023, KG)` – per-capita plastic use.  \n",
    "- `Total Waste Produced (2023, Tons)` – estimated total plastic waste generated.  \n",
    "- `Waste per Person (2023, kg)` – waste per person, derived from total waste and population.  \n",
    "- `Mismanaged Waste (2023, Tons)` – total mismanaged plastic waste.  \n",
    "- `Mismanaged Waste % (2023)` – percentage of waste that is mismanaged.  \n",
    "- `Population (2023)` – country population estimate.  \n",
    "\n",
    "**Dataset Size:**  \n",
    "- Number of rows: 212  \n",
    "- Number of columns: 8  \n"
   ]
  },
  {
   "cell_type": "markdown",
   "id": "0e958b16",
   "metadata": {},
   "source": []
  },
  {
   "cell_type": "code",
   "execution_count": 1,
   "id": "8107aee9",
   "metadata": {},
   "outputs": [],
   "source": [
    "import numpy as np\n",
    "import pandas as pd\n",
    "import matplotlib.pyplot as plt\n",
    "import matplotlib.ticker as ticker\n",
    "import seaborn as sns\n"
   ]
  },
  {
   "cell_type": "markdown",
   "id": "aaa464c2",
   "metadata": {},
   "source": []
  },
  {
   "cell_type": "markdown",
   "id": "ed11df01",
   "metadata": {},
   "source": [
    "## Loading Datasets"
   ]
  },
  {
   "cell_type": "code",
   "execution_count": 2,
   "id": "da6c3e47",
   "metadata": {},
   "outputs": [
    {
     "data": {
      "text/html": [
       "<div>\n",
       "<style scoped>\n",
       "    .dataframe tbody tr th:only-of-type {\n",
       "        vertical-align: middle;\n",
       "    }\n",
       "\n",
       "    .dataframe tbody tr th {\n",
       "        vertical-align: top;\n",
       "    }\n",
       "\n",
       "    .dataframe thead th {\n",
       "        text-align: right;\n",
       "    }\n",
       "</style>\n",
       "<table border=\"1\" class=\"dataframe\">\n",
       "  <thead>\n",
       "    <tr style=\"text-align: right;\">\n",
       "      <th></th>\n",
       "      <th>flagCode</th>\n",
       "      <th>MismanagedWasteIndex_2023</th>\n",
       "      <th>TotalPlasticConsumption_2023</th>\n",
       "      <th>MismanagedWasteExpected_2023</th>\n",
       "      <th>PerCapitaPlasticConsumption_2023</th>\n",
       "    </tr>\n",
       "    <tr>\n",
       "      <th>country</th>\n",
       "      <th></th>\n",
       "      <th></th>\n",
       "      <th></th>\n",
       "      <th></th>\n",
       "      <th></th>\n",
       "    </tr>\n",
       "  </thead>\n",
       "  <tbody>\n",
       "    <tr>\n",
       "      <th>Afghanistan</th>\n",
       "      <td>AF</td>\n",
       "      <td>98.06</td>\n",
       "      <td>447766</td>\n",
       "      <td>439097</td>\n",
       "      <td>11.5</td>\n",
       "    </tr>\n",
       "    <tr>\n",
       "      <th>Albania</th>\n",
       "      <td>AL</td>\n",
       "      <td>69.90</td>\n",
       "      <td>109725</td>\n",
       "      <td>76692</td>\n",
       "      <td>38.7</td>\n",
       "    </tr>\n",
       "    <tr>\n",
       "      <th>Algeria</th>\n",
       "      <td>DZ</td>\n",
       "      <td>12.82</td>\n",
       "      <td>2092007</td>\n",
       "      <td>268285</td>\n",
       "      <td>48.1</td>\n",
       "    </tr>\n",
       "    <tr>\n",
       "      <th>American Samoa</th>\n",
       "      <td>AS</td>\n",
       "      <td>53.03</td>\n",
       "      <td>2431</td>\n",
       "      <td>1289</td>\n",
       "      <td>52.6</td>\n",
       "    </tr>\n",
       "    <tr>\n",
       "      <th>Andorra</th>\n",
       "      <td>AD</td>\n",
       "      <td>44.77</td>\n",
       "      <td>4859</td>\n",
       "      <td>2176</td>\n",
       "      <td>62.5</td>\n",
       "    </tr>\n",
       "  </tbody>\n",
       "</table>\n",
       "</div>"
      ],
      "text/plain": [
       "               flagCode  MismanagedWasteIndex_2023  \\\n",
       "country                                              \n",
       "Afghanistan          AF                      98.06   \n",
       "Albania              AL                      69.90   \n",
       "Algeria              DZ                      12.82   \n",
       "American Samoa       AS                      53.03   \n",
       "Andorra              AD                      44.77   \n",
       "\n",
       "                TotalPlasticConsumption_2023 MismanagedWasteExpected_2023  \\\n",
       "country                                                                     \n",
       "Afghanistan                           447766                       439097   \n",
       "Albania                               109725                        76692   \n",
       "Algeria                              2092007                       268285   \n",
       "American Samoa                          2431                         1289   \n",
       "Andorra                                 4859                         2176   \n",
       "\n",
       "                PerCapitaPlasticConsumption_2023  \n",
       "country                                           \n",
       "Afghanistan                                 11.5  \n",
       "Albania                                     38.7  \n",
       "Algeria                                     48.1  \n",
       "American Samoa                              52.6  \n",
       "Andorra                                     62.5  "
      ]
     },
     "execution_count": 2,
     "metadata": {},
     "output_type": "execute_result"
    }
   ],
   "source": [
    "df_mwi = pd.read_csv(\"plastic-pollution-by-country-2025.csv\")\n",
    "df_pc = pd.read_csv(\"plastic-consumption-by-country-2025.csv\")\n",
    "\n",
    "# Merging both datasets on country\n",
    "df_merged = pd.merge(df_mwi, df_pc, on=[\"flagCode\", \"country\"])\n",
    "df_merged.set_index(\"country\", inplace=True)\n",
    "\n",
    "# Dropping unecessary columns\n",
    "df_merged.drop(columns=\"MWILevel_2023\", inplace=True)\n",
    "\n",
    "df_merged.head()\n",
    "\n"
   ]
  },
  {
   "cell_type": "markdown",
   "id": "5c9ad0ee",
   "metadata": {},
   "source": [
    "### Data Check\n",
    "Quick shape/columns check and float display prefs (commas, no decimals for large integers).\n"
   ]
  },
  {
   "cell_type": "code",
   "execution_count": 3,
   "id": "c102c1df",
   "metadata": {},
   "outputs": [
    {
     "name": "stdout",
     "output_type": "stream",
     "text": [
      "(212, 5)\n",
      "Index(['flagCode', 'MismanagedWasteIndex_2023', 'TotalPlasticConsumption_2023',\n",
      "       'MismanagedWasteExpected_2023', 'PerCapitaPlasticConsumption_2023'],\n",
      "      dtype='object')\n"
     ]
    }
   ],
   "source": [
    "print(df_merged.shape)\n",
    "print(df_merged.columns)\n",
    "pd.set_option(\"display.float_format\", \"{:,.0f}\".format)  # no decimals, comma separator"
   ]
  },
  {
   "cell_type": "code",
   "execution_count": 4,
   "id": "747304fb",
   "metadata": {},
   "outputs": [],
   "source": [
    "# Renaming columns for clarity\n",
    "df_merged = df_merged.rename(columns={\n",
    "    \"flagCode\": \"Country Code\",\n",
    "    \"MismanagedWasteIndex_2023\": \"Mismanaged Waste % (2023)\",\n",
    "    \"TotalPlasticConsumption_2023\": \"Total Plastic Use (2023, Tons)\",\n",
    "    \"MismanagedWasteExpected_2023\": \"Mismanaged Waste (2023, Tons)\",\n",
    "    \"PerCapitaPlasticConsumption_2023\": \"Plastic Use per Person (2023, KG)\",\n",
    "})"
   ]
  },
  {
   "cell_type": "markdown",
   "id": "c6d876c7",
   "metadata": {},
   "source": [
    "### Converting text columns to numeric\n",
    "Some numeric columns arrived as strings (with commas)\n"
   ]
  },
  {
   "cell_type": "code",
   "execution_count": 5,
   "id": "75152c26",
   "metadata": {},
   "outputs": [],
   "source": [
    "# Converting text to numbers\n",
    "df_merged[\"Mismanaged Waste (2023, Tons)\"] = pd.to_numeric(df_merged[\"Mismanaged Waste (2023, Tons)\"], errors=\"coerce\")\n",
    "df_merged[\"Mismanaged Waste % (2023)\"] = pd.to_numeric(df_merged[\"Mismanaged Waste % (2023)\"], errors=\"coerce\")"
   ]
  },
  {
   "cell_type": "markdown",
   "id": "9808b544",
   "metadata": {},
   "source": [
    "### Derived Data\n",
    "Computing **Total Waste Produced** from mismanaged waste and mismanagement rate.\n",
    "Computing **Population** from Total plastic waste and plastic waste per person.\n",
    "Computing **Waste per Person** from Total Waste Produced and Population\n",
    "\n"
   ]
  },
  {
   "cell_type": "code",
   "execution_count": 6,
   "id": "eed485df",
   "metadata": {},
   "outputs": [
    {
     "data": {
      "text/html": [
       "<div>\n",
       "<style scoped>\n",
       "    .dataframe tbody tr th:only-of-type {\n",
       "        vertical-align: middle;\n",
       "    }\n",
       "\n",
       "    .dataframe tbody tr th {\n",
       "        vertical-align: top;\n",
       "    }\n",
       "\n",
       "    .dataframe thead th {\n",
       "        text-align: right;\n",
       "    }\n",
       "</style>\n",
       "<table border=\"1\" class=\"dataframe\">\n",
       "  <thead>\n",
       "    <tr style=\"text-align: right;\">\n",
       "      <th></th>\n",
       "      <th>Country Code</th>\n",
       "      <th>Mismanaged Waste % (2023)</th>\n",
       "      <th>Total Plastic Use (2023, Tons)</th>\n",
       "      <th>Mismanaged Waste (2023, Tons)</th>\n",
       "      <th>Plastic Use per Person (2023, KG)</th>\n",
       "      <th>Total Waste Produced (2023, Tons)</th>\n",
       "      <th>Population (2023)</th>\n",
       "      <th>Waste per Person (2023, kg)</th>\n",
       "    </tr>\n",
       "    <tr>\n",
       "      <th>country</th>\n",
       "      <th></th>\n",
       "      <th></th>\n",
       "      <th></th>\n",
       "      <th></th>\n",
       "      <th></th>\n",
       "      <th></th>\n",
       "      <th></th>\n",
       "      <th></th>\n",
       "    </tr>\n",
       "  </thead>\n",
       "  <tbody>\n",
       "    <tr>\n",
       "      <th>Afghanistan</th>\n",
       "      <td>AF</td>\n",
       "      <td>98</td>\n",
       "      <td>447766</td>\n",
       "      <td>439,097</td>\n",
       "      <td>12</td>\n",
       "      <td>447,784</td>\n",
       "      <td>38,936,174</td>\n",
       "      <td>12</td>\n",
       "    </tr>\n",
       "    <tr>\n",
       "      <th>Albania</th>\n",
       "      <td>AL</td>\n",
       "      <td>70</td>\n",
       "      <td>109725</td>\n",
       "      <td>76,692</td>\n",
       "      <td>39</td>\n",
       "      <td>109,717</td>\n",
       "      <td>2,835,271</td>\n",
       "      <td>39</td>\n",
       "    </tr>\n",
       "    <tr>\n",
       "      <th>Algeria</th>\n",
       "      <td>DZ</td>\n",
       "      <td>13</td>\n",
       "      <td>2092007</td>\n",
       "      <td>268,285</td>\n",
       "      <td>48</td>\n",
       "      <td>2,092,707</td>\n",
       "      <td>43,492,869</td>\n",
       "      <td>48</td>\n",
       "    </tr>\n",
       "    <tr>\n",
       "      <th>American Samoa</th>\n",
       "      <td>AS</td>\n",
       "      <td>53</td>\n",
       "      <td>2431</td>\n",
       "      <td>1,289</td>\n",
       "      <td>53</td>\n",
       "      <td>2,431</td>\n",
       "      <td>46,217</td>\n",
       "      <td>53</td>\n",
       "    </tr>\n",
       "    <tr>\n",
       "      <th>Andorra</th>\n",
       "      <td>AD</td>\n",
       "      <td>45</td>\n",
       "      <td>4859</td>\n",
       "      <td>2,176</td>\n",
       "      <td>62</td>\n",
       "      <td>4,860</td>\n",
       "      <td>77,744</td>\n",
       "      <td>63</td>\n",
       "    </tr>\n",
       "  </tbody>\n",
       "</table>\n",
       "</div>"
      ],
      "text/plain": [
       "               Country Code  Mismanaged Waste % (2023)  \\\n",
       "country                                                  \n",
       "Afghanistan              AF                         98   \n",
       "Albania                  AL                         70   \n",
       "Algeria                  DZ                         13   \n",
       "American Samoa           AS                         53   \n",
       "Andorra                  AD                         45   \n",
       "\n",
       "                Total Plastic Use (2023, Tons)  Mismanaged Waste (2023, Tons)  \\\n",
       "country                                                                         \n",
       "Afghanistan                             447766                        439,097   \n",
       "Albania                                 109725                         76,692   \n",
       "Algeria                                2092007                        268,285   \n",
       "American Samoa                            2431                          1,289   \n",
       "Andorra                                   4859                          2,176   \n",
       "\n",
       "                Plastic Use per Person (2023, KG)  \\\n",
       "country                                             \n",
       "Afghanistan                                    12   \n",
       "Albania                                        39   \n",
       "Algeria                                        48   \n",
       "American Samoa                                 53   \n",
       "Andorra                                        62   \n",
       "\n",
       "                Total Waste Produced (2023, Tons)  Population (2023)  \\\n",
       "country                                                                \n",
       "Afghanistan                               447,784         38,936,174   \n",
       "Albania                                   109,717          2,835,271   \n",
       "Algeria                                 2,092,707         43,492,869   \n",
       "American Samoa                              2,431             46,217   \n",
       "Andorra                                     4,860             77,744   \n",
       "\n",
       "                Waste per Person (2023, kg)  \n",
       "country                                      \n",
       "Afghanistan                              12  \n",
       "Albania                                  39  \n",
       "Algeria                                  48  \n",
       "American Samoa                           53  \n",
       "Andorra                                  63  "
      ]
     },
     "execution_count": 6,
     "metadata": {},
     "output_type": "execute_result"
    }
   ],
   "source": [
    "# Calculating Total Waste\n",
    "df_merged[\"Total Waste Produced (2023, Tons)\"] = (df_merged[\"Mismanaged Waste (2023, Tons)\"] / (df_merged[\"Mismanaged Waste % (2023)\"] / 100))\n",
    "\n",
    "\n",
    "df_merged[\"Population (2023)\"] = (df_merged[\"Total Plastic Use (2023, Tons)\"] * 1000 / df_merged[\"Plastic Use per Person (2023, KG)\"])\n",
    "\n",
    "df_merged[\"Waste per Person (2023, kg)\"] = (df_merged[\"Total Waste Produced (2023, Tons)\"] * 1000 / df_merged[\"Population (2023)\"])\n",
    "\n",
    "\n",
    "\n",
    "df_merged.head()"
   ]
  },
  {
   "cell_type": "markdown",
   "id": "bbbf20ed",
   "metadata": {},
   "source": [
    "### Nulls & data fixes\n",
    "Identify remaining nulls / zeros; apply targeted fixes if needed (documented below).\n"
   ]
  },
  {
   "cell_type": "code",
   "execution_count": 7,
   "id": "2f8cd805",
   "metadata": {},
   "outputs": [
    {
     "name": "stdout",
     "output_type": "stream",
     "text": [
      "4\n"
     ]
    },
    {
     "data": {
      "text/html": [
       "<div>\n",
       "<style scoped>\n",
       "    .dataframe tbody tr th:only-of-type {\n",
       "        vertical-align: middle;\n",
       "    }\n",
       "\n",
       "    .dataframe tbody tr th {\n",
       "        vertical-align: top;\n",
       "    }\n",
       "\n",
       "    .dataframe thead th {\n",
       "        text-align: right;\n",
       "    }\n",
       "</style>\n",
       "<table border=\"1\" class=\"dataframe\">\n",
       "  <thead>\n",
       "    <tr style=\"text-align: right;\">\n",
       "      <th></th>\n",
       "      <th>Country Code</th>\n",
       "      <th>Mismanaged Waste % (2023)</th>\n",
       "      <th>Total Plastic Use (2023, Tons)</th>\n",
       "      <th>Mismanaged Waste (2023, Tons)</th>\n",
       "      <th>Plastic Use per Person (2023, KG)</th>\n",
       "      <th>Total Waste Produced (2023, Tons)</th>\n",
       "      <th>Population (2023)</th>\n",
       "      <th>Waste per Person (2023, kg)</th>\n",
       "    </tr>\n",
       "    <tr>\n",
       "      <th>country</th>\n",
       "      <th></th>\n",
       "      <th></th>\n",
       "      <th></th>\n",
       "      <th></th>\n",
       "      <th></th>\n",
       "      <th></th>\n",
       "      <th></th>\n",
       "      <th></th>\n",
       "    </tr>\n",
       "  </thead>\n",
       "  <tbody>\n",
       "    <tr>\n",
       "      <th>Namibia</th>\n",
       "      <td>NaN</td>\n",
       "      <td>96</td>\n",
       "      <td>31516</td>\n",
       "      <td>30,120</td>\n",
       "      <td>13</td>\n",
       "      <td>31,516</td>\n",
       "      <td>2,481,575</td>\n",
       "      <td>13</td>\n",
       "    </tr>\n",
       "    <tr>\n",
       "      <th>Sao Tome and Principe</th>\n",
       "      <td>ST</td>\n",
       "      <td>88</td>\n",
       "      <td>2727</td>\n",
       "      <td>NaN</td>\n",
       "      <td>12</td>\n",
       "      <td>NaN</td>\n",
       "      <td>218,160</td>\n",
       "      <td>NaN</td>\n",
       "    </tr>\n",
       "  </tbody>\n",
       "</table>\n",
       "</div>"
      ],
      "text/plain": [
       "                      Country Code  Mismanaged Waste % (2023)  \\\n",
       "country                                                         \n",
       "Namibia                        NaN                         96   \n",
       "Sao Tome and Principe           ST                         88   \n",
       "\n",
       "                       Total Plastic Use (2023, Tons)  \\\n",
       "country                                                 \n",
       "Namibia                                         31516   \n",
       "Sao Tome and Principe                            2727   \n",
       "\n",
       "                       Mismanaged Waste (2023, Tons)  \\\n",
       "country                                                \n",
       "Namibia                                       30,120   \n",
       "Sao Tome and Principe                            NaN   \n",
       "\n",
       "                       Plastic Use per Person (2023, KG)  \\\n",
       "country                                                    \n",
       "Namibia                                               13   \n",
       "Sao Tome and Principe                                 12   \n",
       "\n",
       "                       Total Waste Produced (2023, Tons)  Population (2023)  \\\n",
       "country                                                                       \n",
       "Namibia                                           31,516          2,481,575   \n",
       "Sao Tome and Principe                                NaN            218,160   \n",
       "\n",
       "                       Waste per Person (2023, kg)  \n",
       "country                                             \n",
       "Namibia                                         13  \n",
       "Sao Tome and Principe                          NaN  "
      ]
     },
     "execution_count": 7,
     "metadata": {},
     "output_type": "execute_result"
    }
   ],
   "source": [
    "mask = df_merged.isnull() | (df_merged == 0)\n",
    "\n",
    "print(mask.sum().sum()) # number of null cells\n",
    "df_merged[mask.any(axis=1)] # affected rows"
   ]
  },
  {
   "cell_type": "code",
   "execution_count": 8,
   "id": "b1db8fd0",
   "metadata": {},
   "outputs": [
    {
     "data": {
      "text/html": [
       "<div>\n",
       "<style scoped>\n",
       "    .dataframe tbody tr th:only-of-type {\n",
       "        vertical-align: middle;\n",
       "    }\n",
       "\n",
       "    .dataframe tbody tr th {\n",
       "        vertical-align: top;\n",
       "    }\n",
       "\n",
       "    .dataframe thead th {\n",
       "        text-align: right;\n",
       "    }\n",
       "</style>\n",
       "<table border=\"1\" class=\"dataframe\">\n",
       "  <thead>\n",
       "    <tr style=\"text-align: right;\">\n",
       "      <th></th>\n",
       "      <th>Country Code</th>\n",
       "      <th>Mismanaged Waste % (2023)</th>\n",
       "      <th>Total Plastic Use (2023, Tons)</th>\n",
       "      <th>Mismanaged Waste (2023, Tons)</th>\n",
       "      <th>Plastic Use per Person (2023, KG)</th>\n",
       "      <th>Total Waste Produced (2023, Tons)</th>\n",
       "      <th>Population (2023)</th>\n",
       "      <th>Waste per Person (2023, kg)</th>\n",
       "    </tr>\n",
       "    <tr>\n",
       "      <th>country</th>\n",
       "      <th></th>\n",
       "      <th></th>\n",
       "      <th></th>\n",
       "      <th></th>\n",
       "      <th></th>\n",
       "      <th></th>\n",
       "      <th></th>\n",
       "      <th></th>\n",
       "    </tr>\n",
       "  </thead>\n",
       "  <tbody>\n",
       "    <tr>\n",
       "      <th>Namibia</th>\n",
       "      <td>NaN</td>\n",
       "      <td>96</td>\n",
       "      <td>31516</td>\n",
       "      <td>30,120</td>\n",
       "      <td>13</td>\n",
       "      <td>31,516</td>\n",
       "      <td>2,481,575</td>\n",
       "      <td>13</td>\n",
       "    </tr>\n",
       "    <tr>\n",
       "      <th>Sao Tome and Principe</th>\n",
       "      <td>ST</td>\n",
       "      <td>88</td>\n",
       "      <td>2727</td>\n",
       "      <td>NaN</td>\n",
       "      <td>12</td>\n",
       "      <td>NaN</td>\n",
       "      <td>218,160</td>\n",
       "      <td>NaN</td>\n",
       "    </tr>\n",
       "  </tbody>\n",
       "</table>\n",
       "</div>"
      ],
      "text/plain": [
       "                      Country Code  Mismanaged Waste % (2023)  \\\n",
       "country                                                         \n",
       "Namibia                        NaN                         96   \n",
       "Sao Tome and Principe           ST                         88   \n",
       "\n",
       "                       Total Plastic Use (2023, Tons)  \\\n",
       "country                                                 \n",
       "Namibia                                         31516   \n",
       "Sao Tome and Principe                            2727   \n",
       "\n",
       "                       Mismanaged Waste (2023, Tons)  \\\n",
       "country                                                \n",
       "Namibia                                       30,120   \n",
       "Sao Tome and Principe                            NaN   \n",
       "\n",
       "                       Plastic Use per Person (2023, KG)  \\\n",
       "country                                                    \n",
       "Namibia                                               13   \n",
       "Sao Tome and Principe                                 12   \n",
       "\n",
       "                       Total Waste Produced (2023, Tons)  Population (2023)  \\\n",
       "country                                                                       \n",
       "Namibia                                           31,516          2,481,575   \n",
       "Sao Tome and Principe                                NaN            218,160   \n",
       "\n",
       "                       Waste per Person (2023, kg)  \n",
       "country                                             \n",
       "Namibia                                         13  \n",
       "Sao Tome and Principe                          NaN  "
      ]
     },
     "execution_count": 8,
     "metadata": {},
     "output_type": "execute_result"
    }
   ],
   "source": [
    "df_merged.dropna(subset=df_merged.columns.difference([\"Country Code\"]))\n",
    "df_merged[mask.any(axis=1)]"
   ]
  },
  {
   "cell_type": "code",
   "execution_count": 9,
   "id": "f5767996",
   "metadata": {},
   "outputs": [],
   "source": [
    "# Setting Namibia's country code to \"NA\"\n",
    "df_merged.loc[df_merged.index == \"Namibia\", \"Country Code\"] = \"NA\"\n"
   ]
  },
  {
   "cell_type": "code",
   "execution_count": 10,
   "id": "aa17bad7",
   "metadata": {},
   "outputs": [
    {
     "data": {
      "text/html": [
       "<div>\n",
       "<style scoped>\n",
       "    .dataframe tbody tr th:only-of-type {\n",
       "        vertical-align: middle;\n",
       "    }\n",
       "\n",
       "    .dataframe tbody tr th {\n",
       "        vertical-align: top;\n",
       "    }\n",
       "\n",
       "    .dataframe thead th {\n",
       "        text-align: right;\n",
       "    }\n",
       "</style>\n",
       "<table border=\"1\" class=\"dataframe\">\n",
       "  <thead>\n",
       "    <tr style=\"text-align: right;\">\n",
       "      <th></th>\n",
       "      <th>count</th>\n",
       "      <th>mean</th>\n",
       "      <th>std</th>\n",
       "      <th>min</th>\n",
       "      <th>25%</th>\n",
       "      <th>50%</th>\n",
       "      <th>75%</th>\n",
       "      <th>max</th>\n",
       "    </tr>\n",
       "  </thead>\n",
       "  <tbody>\n",
       "    <tr>\n",
       "      <th>Mismanaged Waste % (2023)</th>\n",
       "      <td>212</td>\n",
       "      <td>61</td>\n",
       "      <td>36</td>\n",
       "      <td>0</td>\n",
       "      <td>22</td>\n",
       "      <td>74</td>\n",
       "      <td>96</td>\n",
       "      <td>100</td>\n",
       "    </tr>\n",
       "    <tr>\n",
       "      <th>Total Plastic Use (2023, Tons)</th>\n",
       "      <td>212</td>\n",
       "      <td>771,852</td>\n",
       "      <td>3,119,078</td>\n",
       "      <td>460</td>\n",
       "      <td>23,720</td>\n",
       "      <td>141,862</td>\n",
       "      <td>473,718</td>\n",
       "      <td>37,606,230</td>\n",
       "    </tr>\n",
       "    <tr>\n",
       "      <th>Mismanaged Waste (2023, Tons)</th>\n",
       "      <td>211</td>\n",
       "      <td>323,579</td>\n",
       "      <td>873,334</td>\n",
       "      <td>14</td>\n",
       "      <td>8,309</td>\n",
       "      <td>63,784</td>\n",
       "      <td>264,354</td>\n",
       "      <td>7,300,752</td>\n",
       "    </tr>\n",
       "    <tr>\n",
       "      <th>Plastic Use per Person (2023, KG)</th>\n",
       "      <td>212</td>\n",
       "      <td>39</td>\n",
       "      <td>41</td>\n",
       "      <td>1</td>\n",
       "      <td>13</td>\n",
       "      <td>27</td>\n",
       "      <td>48</td>\n",
       "      <td>328</td>\n",
       "    </tr>\n",
       "    <tr>\n",
       "      <th>Total Waste Produced (2023, Tons)</th>\n",
       "      <td>211</td>\n",
       "      <td>781,764</td>\n",
       "      <td>3,125,628</td>\n",
       "      <td>458</td>\n",
       "      <td>24,180</td>\n",
       "      <td>150,261</td>\n",
       "      <td>476,308</td>\n",
       "      <td>37,600,597</td>\n",
       "    </tr>\n",
       "    <tr>\n",
       "      <th>Population (2023)</th>\n",
       "      <td>212</td>\n",
       "      <td>36,744,588</td>\n",
       "      <td>141,316,198</td>\n",
       "      <td>11,059</td>\n",
       "      <td>791,911</td>\n",
       "      <td>6,640,059</td>\n",
       "      <td>25,841,811</td>\n",
       "      <td>1,408,473,034</td>\n",
       "    </tr>\n",
       "    <tr>\n",
       "      <th>Waste per Person (2023, kg)</th>\n",
       "      <td>211</td>\n",
       "      <td>204</td>\n",
       "      <td>2,386</td>\n",
       "      <td>1</td>\n",
       "      <td>13</td>\n",
       "      <td>28</td>\n",
       "      <td>49</td>\n",
       "      <td>34,694</td>\n",
       "    </tr>\n",
       "  </tbody>\n",
       "</table>\n",
       "</div>"
      ],
      "text/plain": [
       "                                   count       mean         std    min  \\\n",
       "Mismanaged Waste % (2023)            212         61          36      0   \n",
       "Total Plastic Use (2023, Tons)       212    771,852   3,119,078    460   \n",
       "Mismanaged Waste (2023, Tons)        211    323,579     873,334     14   \n",
       "Plastic Use per Person (2023, KG)    212         39          41      1   \n",
       "Total Waste Produced (2023, Tons)    211    781,764   3,125,628    458   \n",
       "Population (2023)                    212 36,744,588 141,316,198 11,059   \n",
       "Waste per Person (2023, kg)          211        204       2,386      1   \n",
       "\n",
       "                                      25%       50%        75%           max  \n",
       "Mismanaged Waste % (2023)              22        74         96           100  \n",
       "Total Plastic Use (2023, Tons)     23,720   141,862    473,718    37,606,230  \n",
       "Mismanaged Waste (2023, Tons)       8,309    63,784    264,354     7,300,752  \n",
       "Plastic Use per Person (2023, KG)      13        27         48           328  \n",
       "Total Waste Produced (2023, Tons)  24,180   150,261    476,308    37,600,597  \n",
       "Population (2023)                 791,911 6,640,059 25,841,811 1,408,473,034  \n",
       "Waste per Person (2023, kg)            13        28         49        34,694  "
      ]
     },
     "execution_count": 10,
     "metadata": {},
     "output_type": "execute_result"
    }
   ],
   "source": [
    "df_merged.describe().T"
   ]
  },
  {
   "cell_type": "markdown",
   "id": "10bf60b6",
   "metadata": {},
   "source": [
    "### Outlier Check\n",
    "- Ran an outlier check on *Waste per Person (2023, kg)* to identify unusual values.  \n",
    "- Found **Poland** with an unrealistically high value (~34,694 kg/person).  \n",
    "- Inspection showed this was due to a typo in `Total Plastic Use (2023, Tons)` (1,315 instead of 1,315,000).  \n",
    "- Corrected the value manually.\n"
   ]
  },
  {
   "cell_type": "code",
   "execution_count": 11,
   "id": "5b90b2ce",
   "metadata": {},
   "outputs": [
    {
     "name": "stdout",
     "output_type": "stream",
     "text": [
      "Outlier countries based on Waste per Person (2023, kg):\n",
      "                         Country Code  Waste per Person (2023, kg)\n",
      "country                                                           \n",
      "Aruba                              AW                          110\n",
      "Barbados                           BB                          106\n",
      "Bermuda                            BM                          169\n",
      "Faroe Islands                      FO                          155\n",
      "Guam                               GU                          104\n",
      "Hong Kong                          HK                          168\n",
      "Iceland                            IS                          129\n",
      "Israel                             IL                          105\n",
      "Macau                              MO                          328\n",
      "Moldova                            MD                          151\n",
      "Mongolia                           MN                          128\n",
      "Northern Mariana Islands           MP                          109\n",
      "Palau                              PW                          168\n",
      "Poland                             PL                       34,694\n",
      "Puerto Rico                        PR                          132\n",
      "Saint Kitts and Nevis              KN                          160\n",
      "Singapore                          SG                          104\n",
      "United Arab Emirates               AE                          116\n"
     ]
    }
   ],
   "source": [
    "col = \"Waste per Person (2023, kg)\"\n",
    "\n",
    "# Calculate Q1, Q3, and IQR\n",
    "Q1 = df_merged[col].quantile(0.25)\n",
    "Q3 = df_merged[col].quantile(0.75)\n",
    "IQR = Q3 - Q1\n",
    "\n",
    "# Define bounds\n",
    "lower_bound = Q1 - 1.5 * IQR\n",
    "upper_bound = Q3 + 1.5 * IQR\n",
    "\n",
    "# Find outliers\n",
    "outliers = df_merged[(df_merged[col] < lower_bound) | (df_merged[col] > upper_bound)]\n",
    "\n",
    "print(\"Outlier countries based on Waste per Person (2023, kg):\")\n",
    "print(outliers[[\"Country Code\", col]])\n"
   ]
  },
  {
   "cell_type": "code",
   "execution_count": 12,
   "id": "21b9d8a3",
   "metadata": {},
   "outputs": [
    {
     "data": {
      "text/plain": [
       "Country Code                               PL\n",
       "Mismanaged Waste % (2023)                  13\n",
       "Total Plastic Use (2023, Tons)           1315\n",
       "Mismanaged Waste (2023, Tons)         177,365\n",
       "Plastic Use per Person (2023, KG)          35\n",
       "Total Waste Produced (2023, Tons)   1,314,789\n",
       "Population (2023)                      37,896\n",
       "Waste per Person (2023, kg)            34,694\n",
       "Name: Poland, dtype: object"
      ]
     },
     "execution_count": 12,
     "metadata": {},
     "output_type": "execute_result"
    }
   ],
   "source": [
    "df_merged.loc[\"Poland\"]"
   ]
  },
  {
   "cell_type": "code",
   "execution_count": 13,
   "id": "3018003e",
   "metadata": {},
   "outputs": [],
   "source": [
    "# Manual change of value\n",
    "df_merged.loc[\"Poland\", \"Total Plastic Use (2023, Tons)\"] = 1315000\n"
   ]
  },
  {
   "cell_type": "code",
   "execution_count": 14,
   "id": "121470e0",
   "metadata": {},
   "outputs": [],
   "source": [
    "# Recalculating Population and Waste per Person after manual change\n",
    "\n",
    "df_merged[\"Population (2023)\"] = (df_merged[\"Total Plastic Use (2023, Tons)\"] * 1000 / df_merged[\"Plastic Use per Person (2023, KG)\"])\n",
    "df_merged[\"Waste per Person (2023, kg)\"] = (df_merged[\"Total Waste Produced (2023, Tons)\"] * 1000 / df_merged[\"Population (2023)\"])\n"
   ]
  },
  {
   "cell_type": "code",
   "execution_count": 15,
   "id": "4eadb472",
   "metadata": {},
   "outputs": [
    {
     "data": {
      "text/plain": [
       "Country Code                                PL\n",
       "Mismanaged Waste % (2023)                   13\n",
       "Total Plastic Use (2023, Tons)         1315000\n",
       "Mismanaged Waste (2023, Tons)          177,365\n",
       "Plastic Use per Person (2023, KG)           35\n",
       "Total Waste Produced (2023, Tons)    1,314,789\n",
       "Population (2023)                   37,896,254\n",
       "Waste per Person (2023, kg)                 35\n",
       "Name: Poland, dtype: object"
      ]
     },
     "execution_count": 15,
     "metadata": {},
     "output_type": "execute_result"
    }
   ],
   "source": [
    "df_merged.loc[\"Poland\"]"
   ]
  },
  {
   "cell_type": "markdown",
   "id": "b768c558",
   "metadata": {},
   "source": [
    "### Final check: structure & ranges\n",
    "Confirm dtypes, descriptive stats.\n"
   ]
  },
  {
   "cell_type": "code",
   "execution_count": 16,
   "id": "c92b14df",
   "metadata": {},
   "outputs": [
    {
     "name": "stdout",
     "output_type": "stream",
     "text": [
      "<class 'pandas.core.frame.DataFrame'>\n",
      "Index: 212 entries, Afghanistan to Zimbabwe\n",
      "Data columns (total 8 columns):\n",
      " #   Column                             Non-Null Count  Dtype  \n",
      "---  ------                             --------------  -----  \n",
      " 0   Country Code                       212 non-null    object \n",
      " 1   Mismanaged Waste % (2023)          212 non-null    float64\n",
      " 2   Total Plastic Use (2023, Tons)     212 non-null    int64  \n",
      " 3   Mismanaged Waste (2023, Tons)      211 non-null    float64\n",
      " 4   Plastic Use per Person (2023, KG)  212 non-null    float64\n",
      " 5   Total Waste Produced (2023, Tons)  211 non-null    float64\n",
      " 6   Population (2023)                  212 non-null    float64\n",
      " 7   Waste per Person (2023, kg)        211 non-null    float64\n",
      "dtypes: float64(6), int64(1), object(1)\n",
      "memory usage: 23.0+ KB\n"
     ]
    },
    {
     "data": {
      "text/html": [
       "<div>\n",
       "<style scoped>\n",
       "    .dataframe tbody tr th:only-of-type {\n",
       "        vertical-align: middle;\n",
       "    }\n",
       "\n",
       "    .dataframe tbody tr th {\n",
       "        vertical-align: top;\n",
       "    }\n",
       "\n",
       "    .dataframe thead th {\n",
       "        text-align: right;\n",
       "    }\n",
       "</style>\n",
       "<table border=\"1\" class=\"dataframe\">\n",
       "  <thead>\n",
       "    <tr style=\"text-align: right;\">\n",
       "      <th></th>\n",
       "      <th>count</th>\n",
       "      <th>mean</th>\n",
       "      <th>std</th>\n",
       "      <th>min</th>\n",
       "      <th>25%</th>\n",
       "      <th>50%</th>\n",
       "      <th>75%</th>\n",
       "      <th>max</th>\n",
       "    </tr>\n",
       "  </thead>\n",
       "  <tbody>\n",
       "    <tr>\n",
       "      <th>Mismanaged Waste % (2023)</th>\n",
       "      <td>212</td>\n",
       "      <td>61</td>\n",
       "      <td>36</td>\n",
       "      <td>0</td>\n",
       "      <td>22</td>\n",
       "      <td>74</td>\n",
       "      <td>96</td>\n",
       "      <td>100</td>\n",
       "    </tr>\n",
       "    <tr>\n",
       "      <th>Total Plastic Use (2023, Tons)</th>\n",
       "      <td>212</td>\n",
       "      <td>778,048</td>\n",
       "      <td>3,118,845</td>\n",
       "      <td>460</td>\n",
       "      <td>23,969</td>\n",
       "      <td>146,224</td>\n",
       "      <td>475,551</td>\n",
       "      <td>37,606,230</td>\n",
       "    </tr>\n",
       "    <tr>\n",
       "      <th>Mismanaged Waste (2023, Tons)</th>\n",
       "      <td>211</td>\n",
       "      <td>323,579</td>\n",
       "      <td>873,334</td>\n",
       "      <td>14</td>\n",
       "      <td>8,309</td>\n",
       "      <td>63,784</td>\n",
       "      <td>264,354</td>\n",
       "      <td>7,300,752</td>\n",
       "    </tr>\n",
       "    <tr>\n",
       "      <th>Plastic Use per Person (2023, KG)</th>\n",
       "      <td>212</td>\n",
       "      <td>39</td>\n",
       "      <td>41</td>\n",
       "      <td>1</td>\n",
       "      <td>13</td>\n",
       "      <td>27</td>\n",
       "      <td>48</td>\n",
       "      <td>328</td>\n",
       "    </tr>\n",
       "    <tr>\n",
       "      <th>Total Waste Produced (2023, Tons)</th>\n",
       "      <td>211</td>\n",
       "      <td>781,764</td>\n",
       "      <td>3,125,628</td>\n",
       "      <td>458</td>\n",
       "      <td>24,180</td>\n",
       "      <td>150,261</td>\n",
       "      <td>476,308</td>\n",
       "      <td>37,600,597</td>\n",
       "    </tr>\n",
       "    <tr>\n",
       "      <th>Population (2023)</th>\n",
       "      <td>212</td>\n",
       "      <td>36,923,165</td>\n",
       "      <td>141,293,511</td>\n",
       "      <td>11,059</td>\n",
       "      <td>808,992</td>\n",
       "      <td>6,707,893</td>\n",
       "      <td>26,427,332</td>\n",
       "      <td>1,408,473,034</td>\n",
       "    </tr>\n",
       "    <tr>\n",
       "      <th>Waste per Person (2023, kg)</th>\n",
       "      <td>211</td>\n",
       "      <td>39</td>\n",
       "      <td>41</td>\n",
       "      <td>1</td>\n",
       "      <td>13</td>\n",
       "      <td>28</td>\n",
       "      <td>48</td>\n",
       "      <td>328</td>\n",
       "    </tr>\n",
       "  </tbody>\n",
       "</table>\n",
       "</div>"
      ],
      "text/plain": [
       "                                   count       mean         std    min  \\\n",
       "Mismanaged Waste % (2023)            212         61          36      0   \n",
       "Total Plastic Use (2023, Tons)       212    778,048   3,118,845    460   \n",
       "Mismanaged Waste (2023, Tons)        211    323,579     873,334     14   \n",
       "Plastic Use per Person (2023, KG)    212         39          41      1   \n",
       "Total Waste Produced (2023, Tons)    211    781,764   3,125,628    458   \n",
       "Population (2023)                    212 36,923,165 141,293,511 11,059   \n",
       "Waste per Person (2023, kg)          211         39          41      1   \n",
       "\n",
       "                                      25%       50%        75%           max  \n",
       "Mismanaged Waste % (2023)              22        74         96           100  \n",
       "Total Plastic Use (2023, Tons)     23,969   146,224    475,551    37,606,230  \n",
       "Mismanaged Waste (2023, Tons)       8,309    63,784    264,354     7,300,752  \n",
       "Plastic Use per Person (2023, KG)      13        27         48           328  \n",
       "Total Waste Produced (2023, Tons)  24,180   150,261    476,308    37,600,597  \n",
       "Population (2023)                 808,992 6,707,893 26,427,332 1,408,473,034  \n",
       "Waste per Person (2023, kg)            13        28         48           328  "
      ]
     },
     "execution_count": 16,
     "metadata": {},
     "output_type": "execute_result"
    }
   ],
   "source": [
    "df_merged.info()\n",
    "df_merged.describe().T\n"
   ]
  },
  {
   "cell_type": "markdown",
   "id": "1c773ab3",
   "metadata": {},
   "source": [
    "### Exploratory Data Analysis (EDA)\n",
    "\n",
    "The analysis is divided into three parts:  \n",
    "1. **Consumption & Waste** – who uses and produces the most plastic, both in totals and per person.  \n",
    "2. **Mismanagement** – who mismanages the most plastic, in both absolute and relative terms.  \n",
    "3. **Distributions & Comparisons** – how consumption, waste, and mismanagement vary globally.  \n",
    "\n",
    "Each section includes visualizations with **interpretation of results**.  \n"
   ]
  },
  {
   "cell_type": "code",
   "execution_count": 17,
   "id": "995c8381",
   "metadata": {},
   "outputs": [
    {
     "data": {
      "image/png": "[encoded data removed]",
      "text/plain": [
       "<Figure size 720x432 with 1 Axes>"
      ]
     },
     "metadata": {
      "needs_background": "light"
     },
     "output_type": "display_data"
    }
   ],
   "source": [
    "\n",
    "# Plot 1\n",
    "\n",
    "col = \"Waste per Person (2023, kg)\"\n",
    "\n",
    "\n",
    "plt.figure(figsize=(10,6))\n",
    "plt.hist(df_merged[col].dropna(), bins = 40, edgecolor = \"white\", color = \"darkorchid\")\n",
    "\n",
    "\n",
    "mean_value = df_merged[col].mean()\n",
    "median_value = df_merged[col].median()\n",
    "\n",
    "plt.axvline(mean_value, color=\"orangered\", linestyle=\"dashed\", linewidth=2, label=f\"Mean = {mean_value:.1f} kg\")\n",
    "plt.axvline(median_value, color=\"gold\", linestyle=\"dashed\", linewidth=2, label=f\"Median = {median_value:.1f} kg\")\n",
    "\n",
    "\n",
    "plt.xlabel(\"Waste per Person (kg)\")\n",
    "plt.ylabel(\"Number of Countries\")\n",
    "plt.title(\"Distribution of Waste per Person\")\n",
    "\n",
    "plt.legend()\n",
    "plt.show()"
   ]
  },
  {
   "cell_type": "markdown",
   "id": "6ddc4d50",
   "metadata": {},
   "source": [
    "**Insights:**\n",
    "- The distribution is right-skewed, with most countries generating less than approximately 50 kg/person annually.  \n",
    "- The **median (27.9 kg)** is notably lower than the **mean (39.3 kg)**, highlighting the impact of high-waste outliers.  \n",
    "- A handful of countries exceed 100 kg/person annually, with one extreme case above 300 kg/person.\n",
    "- This pattern highlights the unequality, most countries contribute modestly per person, but a few high-consumption nations disproportionately raise the global average.\n"
   ]
  },
  {
   "cell_type": "code",
   "execution_count": 18,
   "id": "939cd045",
   "metadata": {},
   "outputs": [
    {
     "data": {
      "image/png": "[encoded data removed]",
      "text/plain": [
       "<Figure size 720x432 with 1 Axes>"
      ]
     },
     "metadata": {
      "needs_background": "light"
     },
     "output_type": "display_data"
    }
   ],
   "source": [
    "# Plot 2\n",
    "\n",
    "col = \"Total Plastic Use (2023, Tons)\"\n",
    "\n",
    "top10_total_user = df_merged.nlargest(10, col)\n",
    "\n",
    "gph = top10_total_user.plot.bar(y=col, legend=False, figsize=(10,6), color=\"royalblue\")\n",
    "\n",
    "plt.title(\"Top 10 Total Plastic Users (2023)\")\n",
    "plt.ylabel(\"Plastic Use (Tons)\")\n",
    "plt.xlabel(\"Country\")\n",
    "plt.xticks(rotation=45, ha=\"right\")\n",
    "\n",
    "\n",
    "gph.yaxis.set_major_formatter(ticker.FuncFormatter(lambda x, _: f\"{x/1e6:.0f}M\"))\n",
    "\n",
    "# Add value labels on top of bars\n",
    "for i, val in enumerate(top10_total_user[col]):\n",
    "    gph.text(i, val + 5e5, f\"{val/1e6:.1f}M\", ha=\"center\", va=\"bottom\", fontsize=9)\n",
    "\n",
    "plt.tight_layout()\n",
    "plt.show()\n"
   ]
  },
  {
   "cell_type": "markdown",
   "id": "3daff60c",
   "metadata": {},
   "source": [
    "**Insights:**\n",
    "- **China (37.6M tons)** and the **United States (22.9M tons)** dominate global plastic use, far exceeding other countries.  \n",
    "- Together, these two account for well over half of the world’s top-10 consumption.  \n",
    "- **India (7.4M tons)**, despite having the world's largest population, consumes much less in absolute terms than China or the U.S.  \n",
    "- This ranking reflects **scale of population**, countries with massive populations naturally use more in total.  \n"
   ]
  },
  {
   "cell_type": "code",
   "execution_count": 19,
   "id": "84d77ee8",
   "metadata": {},
   "outputs": [
    {
     "data": {
      "image/png": "[encoded data removed]",
      "text/plain": [
       "<Figure size 720x432 with 1 Axes>"
      ]
     },
     "metadata": {
      "needs_background": "light"
     },
     "output_type": "display_data"
    }
   ],
   "source": [
    "\n",
    "# Plot 3\n",
    "\n",
    "col = \"Plastic Use per Person (2023, KG)\"\n",
    "top10_pc_user = df_merged.nlargest(10, col)\n",
    "\n",
    "gph = top10_pc_user.plot.bar(y=col, legend=False, figsize=(10,6), color=\"limegreen\")\n",
    "\n",
    "plt.title(\"Top 10 Per-Capita Plastic Users (2023)\")\n",
    "plt.ylabel(\"Plastic Use per Person (kg)\")\n",
    "plt.xlabel(\"Country\")\n",
    "plt.xticks(rotation=45, ha=\"right\")\n",
    "\n",
    "# Add value labels on top of bars\n",
    "for i, val in enumerate(top10_pc_user[col]):\n",
    "    gph.text(i, val + 2, f\"{val:.1f}\", ha=\"center\", va=\"bottom\", fontsize=9)\n",
    "\n",
    "plt.tight_layout()\n",
    "plt.show()"
   ]
  },
  {
   "cell_type": "markdown",
   "id": "507c87fe",
   "metadata": {},
   "source": [
    "**Insights:**\n",
    "- **Macau (328 kg/person)** stands out dramatically, using nearly double the plastic per person compared to the next country.  \n",
    "- Other top per-capita consumers include **Palau (167.8), Hong Kong (167.0), and Bermuda (166.8)** — mostly small or high-income regions.  \n",
    "- These figures are far above the global average (~39 kg/person from Plot 1).  \n",
    "- This highlights how **scale and intensity differ**: large populations dominate in totals, but the per-capita leaders are **smaller populations**, where usage intensity is disproportionately high relative to population size.  \n"
   ]
  },
  {
   "cell_type": "code",
   "execution_count": 20,
   "id": "1d55742f",
   "metadata": {},
   "outputs": [
    {
     "data": {
      "image/png": "[encoded data removed]",
      "text/plain": [
       "<Figure size 720x432 with 1 Axes>"
      ]
     },
     "metadata": {
      "needs_background": "light"
     },
     "output_type": "display_data"
    }
   ],
   "source": [
    "# Plot 4\n",
    "\n",
    "col = \"Total Waste Produced (2023, Tons)\"\n",
    "top10_total_waste = df_merged.nlargest(10, col)\n",
    "\n",
    "gph = top10_total_waste.plot.bar(y=col, legend=False, figsize=(10,6), color=\"darkorange\")\n",
    "\n",
    "plt.title(\"Top 10 Countries by Total Waste Produced (2023)\")\n",
    "plt.ylabel(\"Total Waste (Tons)\")\n",
    "plt.xlabel(\"Country\")\n",
    "plt.xticks(rotation=45, ha=\"right\")\n",
    "\n",
    "\n",
    "gph.yaxis.set_major_formatter(ticker.FuncFormatter(lambda x, _: f\"{x/1e6:.0f}M\"))\n",
    "\n",
    "# Add value labels on top of bars\n",
    "for i, val in enumerate(top10_total_waste[col]):\n",
    "    gph.text(i, val + 5e5, f\"{val/1e6:.1f}M\", ha=\"center\", va=\"bottom\", fontsize=9)\n",
    "\n",
    "plt.tight_layout()\n",
    "plt.show()\n",
    "\n",
    "\n",
    "\n",
    "\n"
   ]
  },
  {
   "cell_type": "markdown",
   "id": "052f491a",
   "metadata": {},
   "source": [
    "**Insights:**\n",
    "- The ranking is almost identical to total plastic use (Plot 2), showing that consumption translates almost directly into waste generation. \n",
    "- This step makes clear that high consumption translates almost directly into high waste volumes, setting the stage for examining how much of this waste is **properly managed vs. mismanaged**. \n"
   ]
  },
  {
   "cell_type": "code",
   "execution_count": 21,
   "id": "5148f6b8",
   "metadata": {},
   "outputs": [
    {
     "data": {
      "image/png": "[encoded data removed]",
      "text/plain": [
       "<Figure size 864x432 with 1 Axes>"
      ]
     },
     "metadata": {
      "needs_background": "light"
     },
     "output_type": "display_data"
    }
   ],
   "source": [
    "# Plot 5\n",
    "\n",
    "col_percap = \"Waste per Person (2023, kg)\"\n",
    "top10_percap_waste = df_merged.nlargest(10, col_percap)\n",
    "\n",
    "gph = top10_percap_waste.plot.bar(y=col_percap, legend=False, figsize=(12,6), color=\"teal\")\n",
    "\n",
    "plt.title(\"Top 10 Countries by Waste per Person (2023)\")\n",
    "plt.ylabel(\"Waste per Person (kg)\")\n",
    "plt.xlabel(\"Country\")\n",
    "plt.xticks(rotation=45, ha=\"right\")\n",
    "\n",
    "for i, val in enumerate(top10_percap_waste[col_percap]):\n",
    "    gph.text(i, val + 2, f\"{val:.1f}\", ha=\"center\", va=\"bottom\", fontsize=9)\n",
    "\n",
    "plt.show()"
   ]
  },
  {
   "cell_type": "markdown",
   "id": "2c5afbef",
   "metadata": {},
   "source": [
    "**Insights:**\n",
    "- **Macau (328 kg/person)** leads by a wide margin, producing nearly double the waste per person compared to the next highest countries, similar to plastic consumption.\n"
   ]
  },
  {
   "cell_type": "code",
   "execution_count": 22,
   "id": "b1d03b38",
   "metadata": {},
   "outputs": [
    {
     "name": "stdout",
     "output_type": "stream",
     "text": [
      "7300752.0\n"
     ]
    },
    {
     "data": {
      "image/png": "[encoded data removed]",
      "text/plain": [
       "<Figure size 720x432 with 1 Axes>"
      ]
     },
     "metadata": {
      "needs_background": "light"
     },
     "output_type": "display_data"
    }
   ],
   "source": [
    "# Plot 6\n",
    "\n",
    "col_mis_total = \"Mismanaged Waste (2023, Tons)\"\n",
    "col_mis_pct = \"Mismanaged Waste % (2023)\"\n",
    "top10_mis_total = df_merged.nlargest(10, col_mis_total)\n",
    "\n",
    "gph = top10_mis_total.plot.bar(y=col_mis_total, legend=False, figsize=(10,6), color=\"firebrick\")\n",
    "\n",
    "\n",
    "plt.title(\"Top 10 Countries by Total Mismanaged Plastic Waste (2023)\")\n",
    "plt.ylabel(\"Mismanaged Waste (Tons)\")\n",
    "plt.xlabel(\"Country\")\n",
    "plt.xticks(rotation=45, ha=\"right\")\n",
    "\n",
    "ymax = top10_mis_total[col_mis_total].max()\n",
    "print(ymax)\n",
    "gph.set_ylim(0, ymax * 1.2)\n",
    "\n",
    "gph.yaxis.set_major_formatter(ticker.FuncFormatter(lambda x, _: f\"{x/1e6:.0f}M\"))\n",
    "\n",
    "for i, (val, pct) in enumerate(zip(top10_mis_total[col_mis_total], top10_mis_total[col_mis_pct])):\n",
    "    gph.text(i, val + (ymax * 0.02), f\"{val/1e6:.1f}M\\n({pct:.1f}%)\", ha=\"center\", va=\"bottom\", fontsize=9)\n",
    "\n",
    "plt.tight_layout()\n",
    "plt.show()"
   ]
  },
  {
   "cell_type": "markdown",
   "id": "2926be29",
   "metadata": {},
   "source": [
    "**Insights:**\n",
    "- **India (7.3M tons)**, **China (6.5M tons)** and **Brazil (4.8M tons)** top the list of mismanaged plastic waste in absolute terms.  \n",
    "- This chart highlights that mismanagement is not only about how much plastic is consumed, but also about the **capacity of national waste management systems** to handle it effectively.  \n",
    "- **India (7.3M tons, 98.5%)** and **Brazil (4.8M tons, 98.0%)** show extremely high mismanagement rates, meaning nearly all plastic waste generated ends up improperly handled.  \n",
    "- **China (6.5M tons, 17.4%)** produces a large volume but mismanages a much smaller share relative to its scale, reflecting stronger waste-handling capacity and infrastructure.  \n",
    "- **The U.S. (2.0M tons, 8.7%)** appears in the top 10 by volume, but with one of the lowest mismanagement rates, reflecting more effective systems and infrastructure.  \n",
    "- Countries like **Indonesia (98.4%)**, **Thailand (98.5%)**, and **DR Congo (97.8%)** also highlight regions where weak infrastructure drives extremely high mismanagement risk.  \n",
    "- Overall, the data shows that the **global challenge is twofold**:  \n",
    "  - **Scale problem** - massive plastic waste generators.  \n",
    "  - **System problem** - insufficient waste management infrastructure leading to high leakage.\n"
   ]
  },
  {
   "cell_type": "code",
   "execution_count": 23,
   "id": "4fc6df15",
   "metadata": {},
   "outputs": [
    {
     "data": {
      "image/png": "[encoded data removed]",
      "text/plain": [
       "<Figure size 864x432 with 1 Axes>"
      ]
     },
     "metadata": {
      "needs_background": "light"
     },
     "output_type": "display_data"
    }
   ],
   "source": [
    "# Plot 7\n",
    "\n",
    "col_mis_pct = \"Mismanaged Waste % (2023)\"\n",
    "col_mis_total = \"Mismanaged Waste (2023, Tons)\"\n",
    "top10_mis_pct = df_merged.nlargest(10, col_mis_pct)\n",
    "\n",
    "gph = top10_mis_pct.plot.bar(y=col_mis_pct, legend=False, figsize=(12,6), color=\"darkorange\")\n",
    "\n",
    "plt.title(\"Top 10 Countries by Mismanaged Waste Rate (2023)\")\n",
    "plt.ylabel(\"Mismanaged Waste (%)\")\n",
    "plt.xlabel(\"Country\")\n",
    "plt.xticks(rotation=45, ha=\"right\")\n",
    "\n",
    "ymax = top10_mis_pct[col_mis_pct].max()\n",
    "gph.set_ylim(0, ymax * 1.2)\n",
    "\n",
    "# Label with both tons + percentage\n",
    "for i, (tons, pct) in enumerate(zip(top10_mis_pct[col_mis_total], top10_mis_pct[col_mis_pct])):\n",
    "    gph.text(i, pct + (ymax * 0.02), f\"{tons/1e3:.1f}k tons\\n({pct:.1f}%)\", ha=\"center\", va=\"bottom\", fontsize=9)\n",
    "\n",
    "plt.tight_layout()\n",
    "plt.show()\n"
   ]
  },
  {
   "cell_type": "markdown",
   "id": "d15586db",
   "metadata": {},
   "source": [
    "**Insights:**  \n",
    "- These countries record **near-100% mismanagement rates**, showing an almost complete absence of functioning waste management systems.  \n",
    "- Nations like **Nigeria (930k tons, 99%)** and **Myanmar (494k tons, 99%)** stand out where both **volume and rate are critically high**, amplifying environmental risks.  \n",
    "- The findings highlight that **systemic weakness, not just absolute waste volumes**, can turn countries into mismanagement hotspots when infrastructure is lacking.  \n"
   ]
  },
  {
   "cell_type": "markdown",
   "id": "783b2907",
   "metadata": {},
   "source": [
    "### Conclusion\n",
    "\n",
    "Key findings from this EDA:  \n",
    "- Plastic use and waste are highly concentrated: **China, the U.S., and India** dominate in absolute totals.  \n",
    "- Per-capita measures tell a different story: small or wealthy regions like **Macau, Bermuda, and Palau** have the highest per-person waste footprints.  \n",
    "- **India and Brazil** show extremely high mismanagement rates (~98%), while **China and the U.S.** generate massive totals but mismanage a much smaller share.  \n",
    "- Several nations face **near-100% mismanagement** despite producing relatively small waste volumes, an indication of absent waste management infrastructure.  \n",
    "\n",
    "Overall, the global plastic waste challenge is **twofold**:  \n",
    "- **Scale problem** - massive waste generators like China, India, and the U.S.  \n",
    "- **System problem** - countries with insufficient infrastructure that mismanage nearly all plastic waste produced.  \n",
    "\n",
    "This analysis demonstrates how combining **totals, per-capita measures, and mismanagement efficiency** gives a more complete picture of global plastic pollution.  \n",
    "\n"
   ]
  },
  {
   "cell_type": "markdown",
   "id": "7e80e181",
   "metadata": {},
   "source": [
    "## Conclusion\n",
    "- Totals are concentrated in a few large economies (China, U.S., India); per-capita leaders are small/high-consumption regions.  \n",
    "- Mismanagement shows two problems: **scale** (big generators) and **system capacity** (near-100% MWI in some countries).  \n",
    "- Combining totals, per-capita metrics, and mismanagement % yields a fuller picture than any single view.\n"
   ]
  }
 ],
 "metadata": {
  "kernelspec": {
   "display_name": "Python 3",
   "language": "python",
   "name": "python3"
  },
  "language_info": {
   "codemirror_mode": {
    "name": "ipython",
    "version": 3
   },
   "file_extension": ".py",
   "mimetype": "text/x-python",
   "name": "python",
   "nbconvert_exporter": "python",
   "pygments_lexer": "ipython3",
   "version": "3.7.4"
  }
 },
 "nbformat": 4,
 "nbformat_minor": 5
}
